{
 "cells": [
  {
   "cell_type": "markdown",
   "metadata": {},
   "source": [
    "# Array 知识点\n",
    "\n",
    "1. Initialize\n",
    "2. Get Length\n",
    "3. Access Element\n",
    "4. Iterate all Elements 遍历\n",
    "5. Modify Element"
   ]
  },
  {
   "cell_type": "code",
   "execution_count": null,
   "metadata": {},
   "outputs": [],
   "source": [
    "#// 1. Initialize"
   ]
  },
  {
   "cell_type": "code",
   "execution_count": null,
   "metadata": {},
   "outputs": [],
   "source": [
    "list1 = ['physics', 'chemistry', 1997, 2000]"
   ]
  },
  {
   "cell_type": "code",
   "execution_count": 9,
   "metadata": {},
   "outputs": [
    {
     "name": "stdout",
     "output_type": "stream",
     "text": [
      "4\n"
     ]
    }
   ],
   "source": [
    "#// 2. Get Length\n",
    "len(list1)\n",
    "print(len(list1))"
   ]
  },
  {
   "cell_type": "code",
   "execution_count": 8,
   "metadata": {},
   "outputs": [
    {
     "name": "stdout",
     "output_type": "stream",
     "text": [
      "1997\n"
     ]
    }
   ],
   "source": [
    "# 3. Access Element\n",
    "print(list1[2])"
   ]
  },
  {
   "cell_type": "code",
   "execution_count": 11,
   "metadata": {
    "scrolled": true
   },
   "outputs": [
    {
     "name": "stdout",
     "output_type": "stream",
     "text": [
      "item: Baidu\n",
      "item: Google\n",
      "item: Runoob\n",
      "item: Taobao\n",
      "完成循环!\n"
     ]
    }
   ],
   "source": [
    "# 4. Iterate all Elements 遍历\n",
    "list2 = [\"Baidu\", \"Google\",\"Runoob\",\"Taobao\"]\n",
    "for item in list2:\n",
    "    print(\"item: \" + item)\n",
    "print(\"完成循环!\")"
   ]
  },
  {
   "cell_type": "code",
   "execution_count": 12,
   "metadata": {},
   "outputs": [
    {
     "name": "stdout",
     "output_type": "stream",
     "text": [
      "item: Baidu\n",
      "item: Google\n",
      "item: alibaba\n",
      "item: Taobao\n",
      "完成循环!\n"
     ]
    }
   ],
   "source": [
    "# 5. Modify Element\n",
    "list2[2]= \"alibaba\"\n",
    "for item in list2:\n",
    "    print(\"item: \" + item)\n",
    "print(\"完成循环!\")"
   ]
  },
  {
   "cell_type": "code",
   "execution_count": 13,
   "metadata": {},
   "outputs": [
    {
     "name": "stdout",
     "output_type": "stream",
     "text": [
      "1\n",
      "2\n",
      "3\n",
      "a\n"
     ]
    }
   ],
   "source": [
    "# 6. Dynamic Array 动态数组\n",
    "lst = [] # Declares an empty list named lst\n",
    "lst = [1,2,3]\n",
    "lst.append('a')\n",
    "for item in lst:\n",
    "    print(item)"
   ]
  },
  {
   "cell_type": "code",
   "execution_count": 18,
   "metadata": {},
   "outputs": [
    {
     "name": "stdout",
     "output_type": "stream",
     "text": [
      "[11, 7, 8, 9]\n",
      "1\n"
     ]
    }
   ],
   "source": [
    "# 6.1. make a copy\n",
    "# 6.2. cast an array to a vector\n",
    "lst1 = []\n",
    "lst1.append(11)\n",
    "lst2 = [7,8,9]\n",
    "print(lst1+lst2)\n",
    "\n",
    "# 6.3. get length\n",
    "print(len(lst1))\n",
    "# 6.4. access element\n",
    "\n",
    "# 6.5. iterate the vector\n",
    "  "
   ]
  },
  {
   "cell_type": "code",
   "execution_count": null,
   "metadata": {},
   "outputs": [],
   "source": []
  }
 ],
 "metadata": {
  "kernelspec": {
   "display_name": "Python 3",
   "language": "python",
   "name": "python3"
  },
  "language_info": {
   "codemirror_mode": {
    "name": "ipython",
    "version": 3
   },
   "file_extension": ".py",
   "mimetype": "text/x-python",
   "name": "python",
   "nbconvert_exporter": "python",
   "pygments_lexer": "ipython3",
   "version": "3.7.3"
  }
 },
 "nbformat": 4,
 "nbformat_minor": 4
}
